{
 "cells": [
  {
   "cell_type": "code",
   "execution_count": 1,
   "id": "a5465a66",
   "metadata": {},
   "outputs": [
    {
     "data": {
      "text/plain": [
       "1"
      ]
     },
     "execution_count": 1,
     "metadata": {},
     "output_type": "execute_result"
    }
   ],
   "source": [
    "x = 1"
   ]
  },
  {
   "cell_type": "code",
   "execution_count": 10,
   "id": "5b79078e",
   "metadata": {},
   "outputs": [
    {
     "name": "stdout",
     "output_type": "stream",
     "text": [
      "1 is odd \n",
      "2 is even \n",
      "3 is odd \n"
     ]
    }
   ],
   "source": [
    " for i in [1,2,3]\n",
    "    println(i,\" is\",isodd(i) ? \" odd \" : \" even \")\n",
    "end"
   ]
  },
  {
   "cell_type": "code",
   "execution_count": 13,
   "id": "2f9697d0",
   "metadata": {},
   "outputs": [
    {
     "ename": "LoadError",
     "evalue": "syntax: incomplete: \"for\" at In[13]:1 requires end",
     "output_type": "error",
     "traceback": [
      "syntax: incomplete: \"for\" at In[13]:1 requires end",
      "",
      "Stacktrace:",
      " [1] top-level scope",
      "   @ In[13]:1"
     ]
    }
   ],
   "source": [
    "for i in range(0:10)\n",
    "    println(i)"
   ]
  },
  {
   "cell_type": "code",
   "execution_count": 50,
   "id": "852b83c5",
   "metadata": {},
   "outputs": [
    {
     "data": {
      "text/plain": [
       "compose (generic function with 4 methods)"
      ]
     },
     "execution_count": 50,
     "metadata": {},
     "output_type": "execute_result"
    }
   ],
   "source": [
    "function compose(x,y)\n",
    "    return x,y\n",
    "end"
   ]
  },
  {
   "cell_type": "code",
   "execution_count": 51,
   "id": "b7593c02",
   "metadata": {},
   "outputs": [
    {
     "data": {
      "text/plain": [
       "(1, 3)"
      ]
     },
     "execution_count": 51,
     "metadata": {},
     "output_type": "execute_result"
    }
   ],
   "source": [
    "compose(1,3)"
   ]
  },
  {
   "cell_type": "code",
   "execution_count": 45,
   "id": "eb6aface",
   "metadata": {},
   "outputs": [
    {
     "data": {
      "text/plain": [
       "y (generic function with 1 method)"
      ]
     },
     "execution_count": 45,
     "metadata": {},
     "output_type": "execute_result"
    }
   ],
   "source": [
    "function y(a;b)\n",
    "    return a,b\n",
    "end"
   ]
  },
  {
   "cell_type": "code",
   "execution_count": 47,
   "id": "b0deaf10",
   "metadata": {},
   "outputs": [
    {
     "data": {
      "text/plain": [
       "(1, 2)"
      ]
     },
     "execution_count": 47,
     "metadata": {},
     "output_type": "execute_result"
    }
   ],
   "source": [
    "y(1,b=2)"
   ]
  },
  {
   "cell_type": "code",
   "execution_count": 88,
   "id": "52d4c840",
   "metadata": {},
   "outputs": [
    {
     "data": {
      "text/plain": [
       "A (generic function with 2 methods)"
      ]
     },
     "execution_count": 88,
     "metadata": {},
     "output_type": "execute_result"
    }
   ],
   "source": [
    "function A(a,b=2;x=1,y=1)\n",
    "    return a,b,x,y\n",
    "end"
   ]
  },
  {
   "cell_type": "code",
   "execution_count": 89,
   "id": "91de0e90",
   "metadata": {},
   "outputs": [
    {
     "data": {
      "text/plain": [
       "(2, 5, 1, 1)"
      ]
     },
     "execution_count": 89,
     "metadata": {},
     "output_type": "execute_result"
    }
   ],
   "source": [
    "A(2,5)"
   ]
  },
  {
   "cell_type": "code",
   "execution_count": 94,
   "id": "249c5a1a",
   "metadata": {},
   "outputs": [
    {
     "data": {
      "text/plain": [
       "(2, 5, 1, 10)"
      ]
     },
     "execution_count": 94,
     "metadata": {},
     "output_type": "execute_result"
    }
   ],
   "source": [
    "A(2,5,y=10)"
   ]
  },
  {
   "cell_type": "code",
   "execution_count": 96,
   "id": "db42642d",
   "metadata": {},
   "outputs": [
    {
     "ename": "LoadError",
     "evalue": "syntax: extra token \"clone\" after end of expression",
     "output_type": "error",
     "traceback": [
      "syntax: extra token \"clone\" after end of expression",
      "",
      "Stacktrace:",
      " [1] top-level scope",
      "   @ In[96]:1"
     ]
    }
   ],
   "source": [
    "git clone :https://github.com/Vijay3alaji/Julia.git"
   ]
  },
  {
   "cell_type": "code",
   "execution_count": null,
   "id": "0c496b71",
   "metadata": {},
   "outputs": [],
   "source": []
  }
 ],
 "metadata": {
  "kernelspec": {
   "display_name": "Julia 1.9.3",
   "language": "julia",
   "name": "julia-1.9"
  },
  "language_info": {
   "file_extension": ".jl",
   "mimetype": "application/julia",
   "name": "julia",
   "version": "1.9.3"
  }
 },
 "nbformat": 4,
 "nbformat_minor": 5
}
